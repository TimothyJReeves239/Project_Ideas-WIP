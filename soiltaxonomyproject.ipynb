{
 "cells": [
  {
   "cell_type": "code",
   "execution_count": 1,
   "metadata": {},
   "outputs": [],
   "source": [
    "import requests\n",
    "from bs4 import BeautifulSoup\n",
    "from urllib.parse import quote_plus\n",
    "from random import randrange\n",
    "import time\n",
    "import pandas as pd"
   ]
  },
  {
   "cell_type": "code",
   "execution_count": 2,
   "metadata": {},
   "outputs": [],
   "source": [
    "link = 'https://www.nrcs.usda.gov/wps/portal/nrcs/detail/soils/edu/?cid=nrcs142p2_054278'\n",
    "page = requests.get(link, timeout=5)\n",
    "soup = BeautifulSoup(page.content, \"html.parser\")\n",
    "suborder = ((soup.find_all('span',attrs={\"style\":\"font-size: 11px;\"})))\n",
    "subsuborder = ((soup.find_all('table',attrs={\"class\":\"data\"})))"
   ]
  },
  {
   "cell_type": "code",
   "execution_count": 3,
   "metadata": {},
   "outputs": [],
   "source": [
    "#Script to get Descripter of 28 suborders** more to come **10 added to keep\n",
    "#digit length consistancy\n",
    "###Suborder reference\n",
    "#https://globalrangelands.org/topics/rangeland-ecology/twelve-soil-orders \n",
    "soilsuborderlist = []\n",
    "soilsuborder = {}\n",
    "rows = subsuborder[1].find_all(\"tr\")\n",
    "rows = rows[1:]\n",
    "for row in rows:\n",
    "    soilsuborderlist.append(row.find_all(\"td\")[0].span.text)\n",
    "for i, x in enumerate(soilsuborderlist):\n",
    "    soilsuborder[x] = (i+10)\n",
    "\n"
   ]
  },
  {
   "cell_type": "code",
   "execution_count": 4,
   "metadata": {},
   "outputs": [],
   "source": [
    "#Script to get Descripter of 12 orders **10 added to keep\n",
    "#digit length consistancy\n",
    "soilorderlist = []\n",
    "soilorder = {}\n",
    "for x in suborder:\n",
    "    if \"sols\" in x.text:\n",
    "        soilorderlist.append(x.text)\n",
    "for i, x in enumerate(soilorderlist):\n",
    "    soilorder[x] = (i+10)\n",
    "\n",
    "    \n",
    "    "
   ]
  },
  {
   "cell_type": "code",
   "execution_count": 5,
   "metadata": {},
   "outputs": [],
   "source": [
    "soilgreatgrouplist = []\n",
    "soilgreatgroup = {}\n",
    "rows = subsuborder[2].find_all(\"tr\")\n",
    "rows = rows[1:]\n",
    "for row in rows:\n",
    "    soilgreatgrouplist.append(row.find_all(\"td\")[0].span.text)\n",
    "for i, x in enumerate(soilgreatgrouplist):\n",
    "    soilgreatgroup[x] = (i+10)"
   ]
  },
  {
   "cell_type": "code",
   "execution_count": 6,
   "metadata": {},
   "outputs": [],
   "source": [
    "\n",
    "soilgreatgroup = {'Acr': 200,\n",
    " 'Al': 201,\n",
    " 'Alb': 202,\n",
    " 'Anhy': 203,\n",
    " 'Anthr': 204,\n",
    " 'Aqu': 205,\n",
    " 'Argi': 206,\n",
    " 'Calci, calc': 207,\n",
    " 'Cry': 208,\n",
    " 'Dur': 209,\n",
    " 'Dystr, dys': 210,\n",
    " 'Endo': 211,\n",
    " 'Epi': 212,\n",
    " 'Eutr': 213,\n",
    " 'Ferr': 214,\n",
    " 'Fibr': 215,\n",
    " 'Fluv': 216,\n",
    " 'Fol': 217,\n",
    " 'Fragi': 218,\n",
    " 'Fragloss': 219,\n",
    " 'Fulv': 220,\n",
    " 'Glac': 221,\n",
    " 'Gyps': 222,\n",
    " 'Gloss': 223,\n",
    " 'Hal': 224,\n",
    " 'Hapl': 225,\n",
    " 'Hem': 226,\n",
    " 'Hist': 227,\n",
    " 'Hum': 228,\n",
    " 'Hydr': 229,\n",
    " 'Kand, kan': 230,\n",
    " 'Luv': 231,\n",
    " 'Melan': 232,\n",
    " 'Moll': 233,\n",
    " 'Natr': 234,\n",
    " 'Pale': 235,\n",
    " 'Petr': 236,\n",
    " 'Plac': 237,\n",
    " 'Plagg': 238,\n",
    " 'Plinth': 239,\n",
    " 'Psamm': 240,\n",
    " 'Quartz': 241,\n",
    " 'Rhod': 242,\n",
    " 'Sal': 243,\n",
    " 'Sapr': 244,\n",
    " 'Somb': 245,\n",
    " 'Sphagn': 246,\n",
    " 'Sulf': 247,\n",
    " 'Torr': 248,\n",
    " 'Ud': 249,\n",
    " 'Umbr': 250,\n",
    " 'Ust': 251,\n",
    " 'Verm': 252,\n",
    " 'Vitr': 253,\n",
    " 'Xer': 254}\n",
    "\n",
    "soilsubgroup = {'Typic': 300, 'Aeric': 301, 'Ultic': 302, 'Mollic': 303}\n",
    "#Descripter of 4 Temperature Family Attributes\n",
    "#should add isos in---kinda lazy--- page. 829\n",
    "soiltemperaturefamily = {'hyperthermic': 400,\n",
    " 'thermic': 401,\n",
    " 'mesic': 402,\n",
    " 'frigid': 403,\n",
    " 'hypergelic': 404,\n",
    " 'pergelic': 405,\n",
    " 'subgelic': 406}\n",
    "#Descripter of 11 Particle Size Family Attributes\n",
    "#Probabilityof x over x, may arise---possible solution skip \"x over \" and take second x\n",
    "#Could change sections by a magnitude of +10 or such (Page 822 for reference)\n",
    "soilparticlesizefamily = {'Very-fine': 500,\n",
    " 'Fine,': 501,\n",
    " 'Clayey,': 502,\n",
    " 'Fine-silty': 503,\n",
    " 'Coarse-silty': 504,\n",
    " 'Fine-loamy': 505,\n",
    " 'Loamy,': 506,\n",
    " 'Coarse-loamy': 507,\n",
    " 'Sandy,': 508,\n",
    " 'Clayey-skeletal': 509,\n",
    " 'Loamy-skeletal': 510,\n",
    " 'Sandy-skeletal': 511,\n",
    " 'Hydrous': 512,\n",
    " 'Hydrous-skeletal': 513,\n",
    " 'Hydrous-pumiceous': 514,\n",
    " 'Medial': 515,\n",
    " 'Medial-skeletal': 516,\n",
    " 'Medial-pumiceous': 517,\n",
    " 'Ashy': 518,\n",
    " 'Ashy-skeletal': 519,\n",
    " 'Ashy-pumiceous': 520,\n",
    " 'Fragmental': 521,\n",
    " 'Cindery': 522,\n",
    " 'Pumiceous': 523,\n",
    " 'Coarse,': 524}\n",
    "\n",
    "soilmineralogyfamily = {'ferritic': 600,\n",
    " 'gibbsitic': 601,\n",
    " 'sesquic': 602,\n",
    " 'ferruginous': 603,\n",
    " 'allitic': 604,\n",
    " 'kaolinitic': 605,\n",
    " 'halloysitic': 606,\n",
    " 'mixed': 607,\n",
    " 'amorphic': 608,\n",
    " 'ferrihydritic': 609,\n",
    " 'glassy': 610,\n",
    " 'gypsic': 611,\n",
    " 'carbonatic': 612,\n",
    " 'magnesic': 613,\n",
    " 'parasesquic': 614,\n",
    " 'glauconitic': 615,\n",
    " 'smecititic': 616,\n",
    " 'illitic': 617,\n",
    " 'vermiculitic': 618,\n",
    " 'isotic': 619,\n",
    " 'micaceous': 620,\n",
    " 'paramicaceous': 621,\n",
    " 'siliceous': 622}\n",
    "\n",
    "\n",
    "soilcecfamily = {'superactive': 700, 'active': 701, 'semiactive': 702, 'subactive': 703}\n",
    "\n",
    "\n",
    "                          \n",
    "                \n",
    "                          "
   ]
  },
  {
   "cell_type": "code",
   "execution_count": 7,
   "metadata": {},
   "outputs": [],
   "source": [
    "attributes = [soilgreatgroup, soilsubgroup, soiltemperaturefamily,\n",
    "              soilparticlesizefamily, soilmineralogyfamily, soilcecfamily]\n",
    "#soilorder, soilsuborder"
   ]
  },
  {
   "cell_type": "code",
   "execution_count": 8,
   "metadata": {},
   "outputs": [
    {
     "name": "stdout",
     "output_type": "stream",
     "text": [
      "Hapl 225\n",
      "Ultic 302\n",
      "mesic 402\n",
      "Fine-loamy 505\n",
      "mixed 607\n",
      "active 701\n"
     ]
    },
    {
     "ename": "NameError",
     "evalue": "name 'fix_data' is not defined",
     "output_type": "error",
     "traceback": [
      "\u001b[0;31m---------------------------------------------------------------------------\u001b[0m",
      "\u001b[0;31mNameError\u001b[0m                                 Traceback (most recent call last)",
      "\u001b[0;32m<ipython-input-8-fc9ed615773a>\u001b[0m in \u001b[0;36m<module>\u001b[0;34m\u001b[0m\n\u001b[1;32m     32\u001b[0m                 \u001b[0;31m#test1 = test1 + \" \" + str(attributes[i][y])\u001b[0m\u001b[0;34m\u001b[0m\u001b[0;34m\u001b[0m\u001b[0;34m\u001b[0m\u001b[0m\n\u001b[1;32m     33\u001b[0m     \u001b[0;31m#test2.append(test1)\u001b[0m\u001b[0;34m\u001b[0m\u001b[0;34m\u001b[0m\u001b[0;34m\u001b[0m\u001b[0m\n\u001b[0;32m---> 34\u001b[0;31m     \u001b[0mfinalout\u001b[0m\u001b[0;34m.\u001b[0m\u001b[0mappend\u001b[0m\u001b[0;34m(\u001b[0m\u001b[0mfix_data\u001b[0m\u001b[0;34m(\u001b[0m\u001b[0mtest1\u001b[0m\u001b[0;34m)\u001b[0m\u001b[0;34m)\u001b[0m\u001b[0;34m\u001b[0m\u001b[0;34m\u001b[0m\u001b[0m\n\u001b[0m\u001b[1;32m     35\u001b[0m     \u001b[0mprint\u001b[0m\u001b[0;34m(\u001b[0m\u001b[0mtest1\u001b[0m\u001b[0;34m)\u001b[0m\u001b[0;34m\u001b[0m\u001b[0;34m\u001b[0m\u001b[0m\n\u001b[1;32m     36\u001b[0m     \u001b[0mtest1\u001b[0m\u001b[0;34m=\u001b[0m\u001b[0;34m\"\"\u001b[0m\u001b[0;34m\u001b[0m\u001b[0;34m\u001b[0m\u001b[0m\n",
      "\u001b[0;31mNameError\u001b[0m: name 'fix_data' is not defined"
     ]
    }
   ],
   "source": [
    "#Test somewhat sucessful.......lots of errors with attributes containing partials\n",
    "#could be solved using spaces & commas before and after**\n",
    "finalout = []\n",
    "test = [\"Fine-loamy, mixed, active, mesic Ultic Hapludalfs\", \n",
    "\"Fine-loamy, mixed, active, mesic Aeric Endoaqualfs\",\n",
    "       \"Fine, illitic, mesic Mollic Epiaqualfs\", \n",
    "        \"Fine-loamy, mixed, active, mesic Glossic Hapludalfs\", \n",
    "       \"Fine, illitic, mesic Glossaquic Hapludalfs\",\n",
    "       \"Fine-silty, mixed, active, mesic Glossic Hapludalfs\",\n",
    "       \"Fine-silty, mixed, semiactive, mesic Glossaquic Hapludalfs\",\n",
    "       \"Coarse-loamy, mixed, active, mesic Typic Fragiudepts\",\n",
    "       \"Coarse-loamy, mixed, active, mesic Oxyaquic Dystrudepts\",\n",
    "       \"Fine-silty, mixed, semiactive, mesic Aquic Dystric Eutrudepts\",\n",
    "       \"Sandy, mixed, mesic Typic Dystrudepts\",\n",
    "       \"Coarse-loamy, mixed, semiactive, mesic Typic Dystrudepts\",\n",
    "       \"Fine, kaolinitic, thermic Typic Kanhapludults\"]\n",
    "#test.find(\" \", -15)\n",
    "test1 = \"\"\n",
    "test2 = []\n",
    "subdeletespace = []\n",
    "global soilsubgroup\n",
    "for x in test:\n",
    "    if (x.split()[-2]) not in soilsubgroup:\n",
    "        soilsubgroup[x.split()[-2]] = ((max(soilsubgroup.values()))+1)\n",
    "    for i in range(len(attributes)):\n",
    "        for y in attributes[i]:\n",
    "            if y in x:\n",
    "                print(y + \" \" + str(attributes[i][y]))\n",
    "                test1 = test1 + \" \" + str(attributes[i][y])\n",
    "            #if y.lower() in x[31: ]:\n",
    "                #print(y + \" \" + str(attributes[i][y]))\n",
    "                #test1 = test1 + \" \" + str(attributes[i][y])\n",
    "    #test2.append(test1)\n",
    "    finalout.append(fix_data(test1))\n",
    "    print(test1)\n",
    "    test1=\"\"\n",
    "print(finalout)\n",
    "    \n",
    "#print(finalout)\n",
    "    \n",
    "    \n",
    "    \n",
    "    #for x in test2:\n",
    "        #print(len(x))\n",
    "        \n",
    "    "
   ]
  },
  {
   "cell_type": "code",
   "execution_count": null,
   "metadata": {},
   "outputs": [],
   "source": [
    "def fix_data(numberlist):\n",
    "    copylist = numberlist\n",
    "    copylist = copylist.split()\n",
    "    if \"303\" in copylist:\n",
    "        try: \n",
    "            copylist.remove(\"233\")\n",
    "        except: \n",
    "            ValueError\n",
    "    if \"304\" or \"305\" in copylist:\n",
    "        try: \n",
    "            copylist.remove(\"223\")\n",
    "        except: \n",
    "            ValueError\n",
    "    if \"702\" in copylist:\n",
    "        try: \n",
    "            copylist.remove(\"701\")\n",
    "        except: \n",
    "            ValueError\n",
    "    i=[]\n",
    "    numberlist = \"\"\n",
    "    for number in copylist:\n",
    "        number = float(number)\n",
    "        i.append(number)\n",
    "    return i\n",
    "    \n",
    "    \n",
    "    \n",
    "    #print(finalout)"
   ]
  },
  {
   "cell_type": "code",
   "execution_count": 9,
   "metadata": {},
   "outputs": [
    {
     "data": {
      "text/html": [
       "<div>\n",
       "<style scoped>\n",
       "    .dataframe tbody tr th:only-of-type {\n",
       "        vertical-align: middle;\n",
       "    }\n",
       "\n",
       "    .dataframe tbody tr th {\n",
       "        vertical-align: top;\n",
       "    }\n",
       "\n",
       "    .dataframe thead th {\n",
       "        text-align: right;\n",
       "    }\n",
       "</style>\n",
       "<table border=\"1\" class=\"dataframe\">\n",
       "  <thead>\n",
       "    <tr style=\"text-align: right;\">\n",
       "      <th></th>\n",
       "      <th>GreatGroup</th>\n",
       "      <th>SubGroup</th>\n",
       "      <th>TF</th>\n",
       "      <th>PF</th>\n",
       "      <th>MF</th>\n",
       "      <th>CF</th>\n",
       "    </tr>\n",
       "  </thead>\n",
       "  <tbody>\n",
       "  </tbody>\n",
       "</table>\n",
       "</div>"
      ],
      "text/plain": [
       "Empty DataFrame\n",
       "Columns: [GreatGroup, SubGroup, TF, PF, MF, CF]\n",
       "Index: []"
      ]
     },
     "execution_count": 9,
     "metadata": {},
     "output_type": "execute_result"
    }
   ],
   "source": [
    "df = pd.DataFrame(finalout, columns = ['GreatGroup', 'SubGroup', 'TF', 'PF', 'MF','CF'])\n",
    "df"
   ]
  },
  {
   "cell_type": "code",
   "execution_count": 140,
   "metadata": {},
   "outputs": [
    {
     "name": "stdout",
     "output_type": "stream",
     "text": [
      "['201', '225', '249', '302', '402', '505', '607', '701']\n",
      "['201', '205', '211', '301', '402', '505', '607', '701']\n",
      "['201', '205', '212', '233', '303', '402', '501', '617']\n",
      "['201', '205', '212', '233', '303', '402', '501', '617']\n"
     ]
    }
   ],
   "source": [
    "for x in test2:\n",
    "    print(x.split())"
   ]
  },
  {
   "cell_type": "code",
   "execution_count": 125,
   "metadata": {},
   "outputs": [
    {
     "name": "stdout",
     "output_type": "stream",
     "text": [
      "{'Very-fine': 500, 'Fine,': 501, 'Clayey,': 502, 'Fine-silty': 503, 'Coarse-silty': 504, 'Fine-loamy': 505, 'Loamy,': 506, 'Coarse-loamy': 507, 'Sandy,': 508, 'Clayey-skeletal': 509, 'Loamy-skeletal': 510, 'Sandy-skeletal': 511, 'Hydrous': 512, 'Hydrous-skeletal': 513, 'Hydrous-pumiceous': 514, 'Medial': 515, 'Medial-skeletal': 516, 'Medial-pumiceous': 517, 'Ashy': 518, 'Ashy-skeletal': 519, 'Ashy-pumiceous': 520, 'Fragmental': 521, 'Cindery': 522, 'Pumiceous': 523, 'Coarse,': 524}\n"
     ]
    }
   ],
   "source": [
    "for x in soilparticlesizefamily:\n",
    "    soilparticlesizefamily[x] = soilparticlesizefamily[x] +490\n",
    "print(soilparticlesizefamily)"
   ]
  },
  {
   "cell_type": "code",
   "execution_count": 81,
   "metadata": {},
   "outputs": [
    {
     "ename": "AttributeError",
     "evalue": "'list' object has no attribute 'split'",
     "output_type": "error",
     "traceback": [
      "\u001b[0;31m---------------------------------------------------------------------------\u001b[0m",
      "\u001b[0;31mAttributeError\u001b[0m                            Traceback (most recent call last)",
      "\u001b[0;32m<ipython-input-81-a9c54ac0a8c5>\u001b[0m in \u001b[0;36m<module>\u001b[0;34m\u001b[0m\n\u001b[0;32m----> 1\u001b[0;31m \u001b[0;32mif\u001b[0m \u001b[0mtest\u001b[0m\u001b[0;34m.\u001b[0m\u001b[0msplit\u001b[0m\u001b[0;34m(\u001b[0m\u001b[0;34m)\u001b[0m\u001b[0;34m[\u001b[0m\u001b[0;34m-\u001b[0m\u001b[0;36m2\u001b[0m\u001b[0;34m]\u001b[0m \u001b[0;32mnot\u001b[0m \u001b[0;32min\u001b[0m \u001b[0msoilsubgroup\u001b[0m\u001b[0;34m:\u001b[0m\u001b[0;34m\u001b[0m\u001b[0;34m\u001b[0m\u001b[0m\n\u001b[0m\u001b[1;32m      2\u001b[0m     \u001b[0msoilsubgroup\u001b[0m\u001b[0;34m[\u001b[0m\u001b[0mtest\u001b[0m\u001b[0;34m.\u001b[0m\u001b[0msplit\u001b[0m\u001b[0;34m(\u001b[0m\u001b[0;34m)\u001b[0m\u001b[0;34m[\u001b[0m\u001b[0;34m-\u001b[0m\u001b[0;36m2\u001b[0m\u001b[0;34m]\u001b[0m\u001b[0;34m]\u001b[0m \u001b[0;34m=\u001b[0m \u001b[0;34m(\u001b[0m\u001b[0;34m(\u001b[0m\u001b[0mmax\u001b[0m\u001b[0;34m(\u001b[0m\u001b[0msoilsubgroup\u001b[0m\u001b[0;34m.\u001b[0m\u001b[0mvalues\u001b[0m\u001b[0;34m(\u001b[0m\u001b[0;34m)\u001b[0m\u001b[0;34m)\u001b[0m\u001b[0;34m)\u001b[0m\u001b[0;34m+\u001b[0m\u001b[0;36m1\u001b[0m\u001b[0;34m)\u001b[0m\u001b[0;34m\u001b[0m\u001b[0;34m\u001b[0m\u001b[0m\n",
      "\u001b[0;31mAttributeError\u001b[0m: 'list' object has no attribute 'split'"
     ]
    }
   ],
   "source": [
    "if test.split()[-2] not in soilsubgroup:\n",
    "    soilsubgroup[test.split()[-2]] = ((max(soilsubgroup.values()))+1)\n"
   ]
  },
  {
   "cell_type": "code",
   "execution_count": 112,
   "metadata": {},
   "outputs": [],
   "source": [
    "for x in soilsuborder:\n",
    "    if x not in soilgreatgroup:\n",
    "        print(x)\n",
    "        #soilgreatgroup[x] = (max(soilgreatgroup.values()) + 1)\n",
    "#soilgreatgroup"
   ]
  },
  {
   "cell_type": "code",
   "execution_count": 73,
   "metadata": {},
   "outputs": [],
   "source": [
    "soilgreatgroup['Calc'] = soilgreatgroup.pop('Calci, calc')"
   ]
  },
  {
   "cell_type": "code",
   "execution_count": 144,
   "metadata": {},
   "outputs": [
    {
     "data": {
      "text/plain": [
       "{'Typic': 300,\n",
       " 'Aeric': 301,\n",
       " 'Ultic': 302,\n",
       " 'Mollic': 303,\n",
       " 'Glossic': 304,\n",
       " 'Glossaquic': 305}"
      ]
     },
     "execution_count": 144,
     "metadata": {},
     "output_type": "execute_result"
    }
   ],
   "source": [
    "soilsubgroup"
   ]
  },
  {
   "cell_type": "code",
   "execution_count": null,
   "metadata": {},
   "outputs": [],
   "source": []
  }
 ],
 "metadata": {
  "kernelspec": {
   "display_name": "Python 3",
   "language": "python",
   "name": "python3"
  },
  "language_info": {
   "codemirror_mode": {
    "name": "ipython",
    "version": 3
   },
   "file_extension": ".py",
   "mimetype": "text/x-python",
   "name": "python",
   "nbconvert_exporter": "python",
   "pygments_lexer": "ipython3",
   "version": "3.7.3"
  }
 },
 "nbformat": 4,
 "nbformat_minor": 2
}
